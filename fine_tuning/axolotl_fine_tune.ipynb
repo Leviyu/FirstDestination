{
 "cells": [
  {
   "cell_type": "markdown",
   "id": "2a98592b",
   "metadata": {},
   "source": [
    "### Fine tune with axolotl"
   ]
  },
  {
   "cell_type": "code",
   "execution_count": null,
   "id": "689cd35d",
   "metadata": {},
   "outputs": [],
   "source": [
    "# env\n",
    "!git clone https://github.com/OpenAccess-AI-Collective/axolotl\n",
    "%cd axolotl\n",
    "\n",
    "!pip3 install packaging\n",
    "!pip3 install -e '.[flash-attn,deepspeed]'\n",
    "!pip3 install -U git+https://github.com/huggingface/peft.git\n"
   ]
  },
  {
   "cell_type": "code",
   "execution_count": null,
   "id": "14d9e6dc",
   "metadata": {},
   "outputs": [],
   "source": [
    "# config\n",
    "import os\n",
    "# os.environ[\"NCCL_P2P_DISABLE\"] = \"1\"\n",
    "# os.environ[\"NCCL_BLOCKING_WAIT\"] = \"0\"\n",
    "# os.environ[\"CUDA_LAUNCH_BLOCKING\"] = \"1\""
   ]
  },
  {
   "cell_type": "code",
   "execution_count": null,
   "id": "b58de07b",
   "metadata": {},
   "outputs": [],
   "source": [
    "!wandb login XXXX\n",
    "!huggingface-cli login --token XXXX\n",
    "!accelerate launch  --multi_gpu --num_processes=4 -m axolotl.cli.train  ./qlora.yaml"
   ]
  },
  {
   "cell_type": "markdown",
   "id": "0031671b",
   "metadata": {},
   "source": [
    "### Save and upload"
   ]
  },
  {
   "cell_type": "code",
   "execution_count": null,
   "id": "3e68574a",
   "metadata": {},
   "outputs": [],
   "source": [
    "from transformers import (\n",
    "    AutoModelForCausalLM,\n",
    "    AutoTokenizer,\n",
    "    BitsAndBytesConfig,\n",
    "    HfArgumentParser,\n",
    "    TrainingArguments,\n",
    "    pipeline,\n",
    "    logging,\n",
    ")\n",
    "from peft import LoraConfig, PeftModel\n",
    "import torch\n",
    "\n",
    "# Load the entire model on the GPU 0\n",
    "device_map = {\"\": 0}\n",
    "!huggingface-cli login --token XXXX\n",
    "\n",
    "\n",
    "model_name = \"meta-llama/Llama-2-13b-chat-hf\"\n",
    "new_model = \"llama2_13b_v26_50k\"\n",
    "\n",
    "\n",
    "base_model = AutoModelForCausalLM.from_pretrained(\n",
    "    model_name,\n",
    "    low_cpu_mem_usage=True,\n",
    "    return_dict=True,\n",
    "    torch_dtype=torch.float16,\n",
    "    device_map=device_map,\n",
    ")\n",
    "model = PeftModel.from_pretrained(base_model, new_model)\n",
    "model = model.merge_and_unload()\n",
    "\n",
    "# Reload tokenizer to save it\n",
    "tokenizer = AutoTokenizer.from_pretrained(model_name, trust_remote_code=True)\n",
    "tokenizer.pad_token = tokenizer.eos_token\n",
    "tokenizer.padding_side = \"right\" # left for mistral\n",
    "\n",
    "model.push_to_hub(new_model, use_temp_dir=False)\n",
    "tokenizer.push_to_hub(new_model, use_temp_dir=False)"
   ]
  }
 ],
 "metadata": {
  "kernelspec": {
   "display_name": "Python 3 (ipykernel)",
   "language": "python",
   "name": "python3"
  },
  "language_info": {
   "codemirror_mode": {
    "name": "ipython",
    "version": 3
   },
   "file_extension": ".py",
   "mimetype": "text/x-python",
   "name": "python",
   "nbconvert_exporter": "python",
   "pygments_lexer": "ipython3",
   "version": "3.7.0"
  }
 },
 "nbformat": 4,
 "nbformat_minor": 5
}
